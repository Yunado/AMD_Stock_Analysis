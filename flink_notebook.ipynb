﻿{
  "metadata": {
    "name": "mp11v2",
    "kernelspec": {
      "language": "scala",
      "name": "spark2-scala"
    },
    "language_info": {
      "codemirror_mode": "text/x-scala",
      "file_extension": ".scala",
      "mimetype": "text/x-scala",
      "name": "scala",
      "pygments_lexer": "scala"
    }
  },
  "nbformat": 4,
  "nbformat_minor": 2,
  "cells": [
    {
      "cell_type": "code",
      "execution_count": 0,
      "metadata": {
        "autoscroll": "auto"
      },
      "outputs": [],
      "source": "%flink.ssql(type\u003dupdate)\r\n\r\nDROP TABLE IF EXISTS stock_table;\r\n\r\n-- create a table to glue data catalog table with columns for stock data, \r\n-- sets a watermark to trigger late arrival events, and configures it to read \r\n-- from a Kinesis stream, in JSON format with an ISO-8601 timestamp format.\r\nCREATE TABLE stock_table(\r\n    `date` STRING,\r\n    ticker VARCHAR(6),\r\n    open_price FLOAT,\r\n    high FLOAT,\r\n    low FLOAT,\r\n    close_price FLOAT,\r\n    adjclose FLOAT,\r\n    volume BIGINT,\r\n    event_time TIMESTAMP(3),\r\n    WATERMARK FOR event_time as event_time - INTERVAL \u00275\u0027 SECOND\r\n) WITH ( --connect to your kinesis data stream\r\n    \u0027connector\u0027 \u003d \u0027kinesis\u0027, \r\n    \u0027stream\u0027 \u003d \u0027mp11v2_ds\u0027,\r\n    \u0027aws.region\u0027 \u003d \u0027us-east-1\u0027,\r\n    \u0027scan.stream.initpos\u0027 \u003d \u0027TRIM_HORIZON\u0027,\r\n    \u0027format\u0027 \u003d \u0027json\u0027,\r\n    \u0027json.timestamp-format.standard\u0027 \u003d \u0027ISO-8601\u0027\r\n);"
    },
    {
      "cell_type": "code",
      "execution_count": 1,
      "metadata": {
        "autoscroll": "auto"
      },
      "outputs": [],
      "source": "%flink.pyflink\r\n\r\nfrom pyflink.datastream import StreamExecutionEnvironment\r\nfrom pyflink.table import StreamTableEnvironment, DataTypes\r\nfrom pyflink.table.udf import udf\r\nfrom datetime import datetime\r\n\r\n# Unregister the existing function if it exists\r\nst_env.execute_sql(\"DROP TEMPORARY FUNCTION IF EXISTS calculate_cmgr\")\r\n    \r\n# Define the custom function\r\n@udf(result_type\u003dDataTypes.FLOAT(), input_types\u003d[DataTypes.STRING(), DataTypes.FLOAT()])\r\ndef calculate_cmgr(date_string: str, close_price: float) -\u003e float:\r\n    start_date \u003d datetime.strptime(\"01/04/2021\", \"%m/%d/%Y\").date()\r\n    current_date \u003d datetime.strptime(date_string, \u0027%m/%d/%Y\u0027).date()\r\n    \r\n    # Check if the day is within the first three days of the month and not January 2021\r\n    if current_date.day \u003c\u003d 3 and not (current_date.month \u003d\u003d 1 and current_date.year \u003d\u003d 2021):\r\n        # Compute the number of months between the start date and the current date\r\n        number_of_months \u003d (current_date.year - start_date.year) * 12 + (current_date.month - start_date.month)\r\n        \r\n        # Calculate the CMGR\r\n        cmgr \u003d ((close_price / 92.3) ** (1 / number_of_months) - 1) * 100\r\n        return cmgr\r\n    else:\r\n        return 0.0\r\n\r\n# Register the custom function with a name\r\nst_env.create_temporary_function(\"calculate_cmgr\", calculate_cmgr)\r\n"
    },
    {
      "cell_type": "code",
      "execution_count": 2,
      "metadata": {
        "autoscroll": "auto"
      },
      "outputs": [],
      "source": "%flink.ssql(type\u003dupdate)\n\nSELECT event_time, calculate_cmgr(`date`, close_price) AS cmgr, `date`, close_price\nFROM stock_table\nWHERE calculate_cmgr(`date`, close_price) \u003c\u003e 0.0"
    },
    {
      "cell_type": "code",
      "execution_count": 3,
      "metadata": {
        "autoscroll": "auto"
      },
      "outputs": [],
      "source": "%flink.pyflink\n\nfrom pyflink.datastream import StreamExecutionEnvironment\nfrom pyflink.table import StreamTableEnvironment, DataTypes\nfrom pyflink.table.udf import udf\n\n# Unregister the existing function if it exists\nst_env.execute_sql(\"DROP TEMPORARY FUNCTION IF EXISTS calculate_ema\")\n\n# Define the EMA calculation function\n@udf(result_type\u003dDataTypes.FLOAT(), input_types\u003d[DataTypes.FLOAT(), DataTypes.FLOAT()])\ndef calculate_ema(prev_ema: float, current_price: float) -\u003e float:\n    return \n\n# Register the EMA calculation function\nst_env.register_function(\"calculate_ema\", calculate_ema)"
    },
    {
      "cell_type": "code",
      "execution_count": 4,
      "metadata": {
        "autoscroll": "auto"
      },
      "outputs": [],
      "source": "%flink.ssql(type\u003dupdate)\r\n/* stock prices of when the current price is lower than the moving average which would be a good indicator for a bear market*/\r\n-- SELECT \r\n--     event_time,\r\n--     ticker,\r\n--     close_price,\r\n--     CASE\r\n--         WHEN ROW_NUMBER() OVER (PARTITION BY ticker ORDER BY event_time) \u003c\u003d 10\r\n--         THEN AVG(close_price) OVER (\r\n--                 PARTITION BY ticker\r\n--                 ORDER BY event_time\r\n--                 ROWS BETWEEN UNBOUNDED PRECEDING AND CURRENT ROW\r\n--             )\r\n--         ELSE ((close_price - emaprev) * (2.0/11.0)) + emaprev\r\n--     END AS ema\r\n-- FROM (\r\n--     SELECT \r\n--         event_time,\r\n--         ticker,\r\n--         close_price,\r\n--         emaprev\r\n--     FROM (\r\n--         SELECT \r\n--             event_time,\r\n--             ticker,\r\n--             close_price,\r\n--             LAG(ema, 1, sma) OVER (\r\n--                 PARTITION BY ticker\r\n--                 ORDER BY event_time\r\n--             ) AS emaprev\r\n--         FROM (\r\n--             SELECT\r\n--                 event_time,\r\n--                 ticker,\r\n--                 close_price,\r\n--                 AVG(close_price) OVER (\r\n--                     PARTITION BY ticker\r\n--                     ORDER BY event_time\r\n--                     ROWS BETWEEN 9 PRECEDING AND CURRENT ROW\r\n--                 ) AS sma,\r\n--                 AVG(close_price) OVER (\r\n--                     PARTITION BY ticker\r\n--                     ORDER BY event_time\r\n--                     ROWS BETWEEN UNBOUNDED PRECEDING AND CURRENT ROW\r\n--                 ) AS ema\r\n--             FROM stock_table\r\n--         ) t\r\n--     ) t1\r\n-- ) t2\r\nSELECT *\r\nFROM (\r\n    SELECT \r\n    event_time,\r\n    ticker,\r\n    close_price,\r\n    sma as avg_close_price,\r\n    ((close_price - emaprev) * (2.0/11.0) + emaprev) AS ema_close_price,\r\n    `date`\r\n    FROM (\r\n        SELECT \r\n            event_time,\r\n            ticker,\r\n            close_price,\r\n            sma,\r\n            (close_price - LAG(sma, 1) OVER (ORDER BY event_time)) * (2.0/11.0) + LAG(sma, 1) OVER (ORDER BY event_time) as emaprev,\r\n            `date`\r\n        FROM (\r\n            SELECT\r\n                event_time,\r\n                ticker,\r\n                close_price,\r\n                AVG(close_price) OVER (\r\n                  PARTITION BY ticker\r\n                  ORDER BY event_time\r\n                  ROWS BETWEEN 9 PRECEDING AND CURRENT ROW\r\n                ) AS sma,\r\n                `date`\r\n            FROM stock_table\r\n        ) t\r\n    ) t1\r\n) t2\r\nWHERE close_price \u003c ema_close_price;"
    },
    {
      "cell_type": "code",
      "execution_count": 5,
      "metadata": {
        "autoscroll": "auto"
      },
      "outputs": [],
      "source": "%flink.ssql(type\u003dupdate)\r\n\r\nSELECT *\r\nFROM stock_table\r\n    MATCH_RECOGNIZE(\r\n        PARTITION BY ticker\r\n        ORDER BY event_time\r\n        MEASURES\r\n            A.event_time as event_time,\r\n            FIRST(A.`date`) AS initialPriceDate,\r\n            LAST(B.`date`) AS dropDate,\r\n            (-100*(C.close_price - A.close_price)/C.close_price) AS dropPercentage,\r\n            FIRST(A.close_price) AS initialPrice,\r\n            LAST(C.close_price) AS lastPrice\r\n        ONE ROW PER MATCH\r\n        AFTER MATCH SKIP PAST LAST ROW\r\n        PATTERN (A B* C) WITHIN INTERVAL \u00271\u0027 MINUTE\r\n        DEFINE\r\n            B AS (B.close_price \u003e\u003d (A.close_price * 0.92)) AND (B.close_price \u003c\u003d (A.close_price * 1.08)),\r\n            C AS (-100*(C.close_price - A.close_price)/C.close_price) \u003e\u003d 8.0\r\n    )"
    },
    {
      "cell_type": "code",
      "execution_count": 6,
      "metadata": {
        "autoscroll": "auto"
      },
      "outputs": [],
      "source": "%flink.ssql\n"
    }
  ]
}